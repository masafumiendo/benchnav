{
 "cells": [
  {
   "cell_type": "markdown",
   "metadata": {},
   "source": [
    "# Tutorial #1: Environments Descriptions\n",
    "\n",
    "This tutorial briefly explains how we define environments for planetary rover navigation problems. What we would like to express here is rovers need to plan safe motion in **traversability maps** considering wheel slip behavior on deformable terrains. "
   ]
  },
  {
   "cell_type": "code",
   "execution_count": null,
   "metadata": {},
   "outputs": [],
   "source": [
    "# Import the necessary libraries\n",
    "\n",
    "# Add the parent directory to the path so that the environment can be found\n",
    "import sys\n",
    "import os\n",
    "\n",
    "sys.path.append(os.path.dirname(os.path.dirname(os.path.abspath(\"__file__\"))))\n",
    "\n",
    "# Import the necessary libraries\n",
    "import torch\n",
    "import matplotlib.pyplot as plt\n",
    "import seaborn as sns\n",
    "\n",
    "# Import the necessary classes\n",
    "from environments.grid_map import GridMap\n",
    "from environments.terrain_properties import TerrainGeometry\n",
    "from environments.terrain_properties import TerrainColoring\n",
    "from environments.terrain_properties import TerrainTraversability\n",
    "\n",
    "sns.set()\n",
    "\n",
    "device = \"cuda\" if torch.cuda.is_available() else \"cpu\""
   ]
  },
  {
   "cell_type": "markdown",
   "metadata": {},
   "source": [
    "## Grid map generation\n",
    "\n",
    "The goal of this notebook is to explain environment definitions in this repository. The map to be used for motion planning is represented as discrete grid map defined as `GridMap` class. We can easily set geometry and apperance information into the map using `TerrainGeometry` and `TerrainColoring` classes."
   ]
  },
  {
   "cell_type": "markdown",
   "metadata": {},
   "source": [
    "1. Initialize `GridMap` with the prefereble size of grid `grid_size` and grid resolution [m] `resolution`. You can also provide `seed` if you want to maintain reproductivity."
   ]
  },
  {
   "cell_type": "code",
   "execution_count": null,
   "metadata": {},
   "outputs": [],
   "source": [
    "grid_map = GridMap(\n",
    "    grid_size=64,  # 64x64 grid\n",
    "    resolution=0.5,  # 0.5m per grid\n",
    "    seed=0,  # random seed\n",
    "    device=device,  # device\n",
    ")"
   ]
  },
  {
   "cell_type": "markdown",
   "metadata": {},
   "source": [
    "2. Call `TerrainGeometry` in order to set geometrical information into the grid map. If you want to create just a random height environment, you can set `is_fractal = True` and `is_crater = False` . If you want to create an environment having crater-like geometry, you can set `is_crater = True`. In order to generate crater, you can tune the number of craters as well as those characteristics, such as the size and slope magnitude. However, if the parameters do not fit the grid map, the crater generation procedure ends in the middle."
   ]
  },
  {
   "cell_type": "code",
   "execution_count": null,
   "metadata": {},
   "outputs": [],
   "source": [
    "terrain_geometry = TerrainGeometry(grid_map=grid_map)\n",
    "terrain_geometry.set_terrain_geometry(\n",
    "    is_fractal=True,  # fractal terrain\n",
    "    is_crater=True,  # with crater\n",
    ")"
   ]
  },
  {
   "cell_type": "markdown",
   "metadata": {},
   "source": [
    "3. Call `TerrainColoring` in order to set appearance inoformation into the grid map. What you need to create color map is `occupancy` defining occupancy ratios for different terrain classes."
   ]
  },
  {
   "cell_type": "code",
   "execution_count": null,
   "metadata": {},
   "outputs": [],
   "source": [
    "occupancy = torch.tensor(\n",
    "    [0.4, 0.4, 0.1, 0.1]\n",
    ")  # 40% of #0, 40% of #1, 10% of #2, 10% of #3 terrain classes\n",
    "\n",
    "terrain_coloring = TerrainColoring(grid_map=grid_map)\n",
    "terrain_coloring.set_terrain_class_coloring(occupancy=occupancy)"
   ]
  },
  {
   "cell_type": "markdown",
   "metadata": {},
   "source": [
    "That is it! You have now created a grid map with fractal terrain and colored it with the specified terrain classes.\n",
    "More specifically, you can access `tensors` attribute in `GridMap` class and it contains the following information.\n",
    "- heigths: A 2D tensor representing the terrain height map in [m].\n",
    "- slopes: A 2D tensor representing the terrain slope values in [deg].\n",
    "- colors: A 3D tensor (3 x height x width) representing RGB color values.\n",
    "- t_classes: A 2D tensor representing terrain classes for every pixel."
   ]
  },
  {
   "cell_type": "markdown",
   "metadata": {},
   "source": [
    "### Visualized examples of terrain geometry"
   ]
  },
  {
   "cell_type": "code",
   "execution_count": null,
   "metadata": {},
   "outputs": [],
   "source": [
    "fig, axs = plt.subplots(1, 2, figsize=(10, 5))\n",
    "\n",
    "# height map\n",
    "axs[0].imshow(grid_map.tensors[\"heights\"].cpu().numpy(), cmap=\"turbo\")\n",
    "axs[0].set_title(\"Height Map\")\n",
    "axs[0].axis(\"off\")\n",
    "\n",
    "# slope map\n",
    "axs[1].imshow(grid_map.tensors[\"slopes\"].cpu().numpy(), cmap=\"turbo\")\n",
    "axs[1].set_title(\"Slope Map\")\n",
    "axs[1].axis(\"off\")\n",
    "\n",
    "plt.show()"
   ]
  },
  {
   "cell_type": "markdown",
   "metadata": {},
   "source": [
    "## Visualized examples of terrain coloring"
   ]
  },
  {
   "cell_type": "code",
   "execution_count": null,
   "metadata": {},
   "outputs": [],
   "source": [
    "fig, axs = plt.subplots(1, 2, figsize=(10, 5))\n",
    "\n",
    "# height map\n",
    "axs[0].imshow(grid_map.tensors[\"colors\"].cpu().numpy().transpose(1, 2, 0))\n",
    "axs[0].set_title(\"Color Map\")\n",
    "axs[0].axis(\"off\")\n",
    "\n",
    "# slope map\n",
    "axs[1].imshow(grid_map.tensors[\"t_classes\"].cpu().numpy(), cmap=\"turbo\")\n",
    "axs[1].set_title(\"Terrain Class Map\")\n",
    "axs[1].axis(\"off\")\n",
    "\n",
    "plt.show()"
   ]
  },
  {
   "cell_type": "markdown",
   "metadata": {},
   "source": [
    "## Slip Model Generation\n",
    "Now you can see the environment represented as `GridMap` has diverse geometry and appearance inforamtion. We further assign latent slip models for each terrain classes. The assumption is as follows:\n",
    "- Each terrain class has a single latent slip model.\n",
    "- Slip model takes slope [deg] input and outputs slip ratio $s$ ($-1 < s < 1$). If $|s| \\geq 1$, the robot cannot move any more (permanent robot entrapment).\n",
    "\n",
    "Based on the above settings, we define the `SlipModel` class to project terrain geometry into traversability for assigned terrain classes."
   ]
  },
  {
   "cell_type": "code",
   "execution_count": null,
   "metadata": {},
   "outputs": [],
   "source": [
    "from src.environments.slip_model import SlipModel"
   ]
  },
  {
   "cell_type": "markdown",
   "metadata": {},
   "source": [
    "1. Initialize `SlipModel`. You can provide hyper-parameters for the latent slip models in order tune its steepness."
   ]
  },
  {
   "cell_type": "code",
   "execution_count": null,
   "metadata": {},
   "outputs": [],
   "source": [
    "model = SlipModel(\n",
    "    slip_sensitivity=1.0,  # sensitivity of slip to slope\n",
    "    slip_nonlinearity=2.0,  # nonlinearity of slip to slope\n",
    "    slip_offset=0.1,  # offset of slip at zero slope\n",
    "    base_noise_scale=0.1,  # noise scales\n",
    "    device=device,\n",
    ")"
   ]
  },
  {
   "cell_type": "markdown",
   "metadata": {},
   "source": [
    "2. Model probability distribution of slip for the given slope angles."
   ]
  },
  {
   "cell_type": "code",
   "execution_count": null,
   "metadata": {},
   "outputs": [],
   "source": [
    "phis = torch.linspace(0, 30, 500).to(device)  # slope angles from 0 to 30 degrees\n",
    "slip_dist = model.model_distribution(\n",
    "    phis\n",
    ")  # slip distribution for the given slope angles"
   ]
  },
  {
   "cell_type": "markdown",
   "metadata": {},
   "source": [
    "3. You can then sample observations from the actual slip distribution."
   ]
  },
  {
   "cell_type": "code",
   "execution_count": null,
   "metadata": {},
   "outputs": [],
   "source": [
    "slips = slip_dist.sample()  # sample slip values for each slope angle"
   ]
  },
  {
   "cell_type": "markdown",
   "metadata": {},
   "source": [
    "That is it! You can see how the slip changes with the slope angle."
   ]
  },
  {
   "cell_type": "markdown",
   "metadata": {},
   "source": [
    "## Visualized examples of latent slip models"
   ]
  },
  {
   "cell_type": "code",
   "execution_count": null,
   "metadata": {},
   "outputs": [],
   "source": [
    "# retrieve noise-free slip model\n",
    "mean_slip = slip_dist.mean\n",
    "# retrieve noise scales for the given slope angles\n",
    "std_slip = slip_dist.stddev\n",
    "lowers = mean_slip - 2 * std_slip  # lower bounds\n",
    "uppers = mean_slip + 2 * std_slip  # upper bounds\n",
    "\n",
    "# plot slip model\n",
    "fig, ax = plt.subplots(1, 1, figsize=(5, 5))\n",
    "\n",
    "ax.scatter(phis.cpu().numpy(), slips.cpu().numpy(), s=1, label=\"Observed Slips\")\n",
    "ax.plot(\n",
    "    phis.cpu().numpy(),\n",
    "    mean_slip.cpu().numpy(),\n",
    "    label=\"Latent Slip Model\",\n",
    "    color=\"black\",\n",
    ")\n",
    "ax.fill_between(\n",
    "    phis.cpu().numpy(),\n",
    "    lowers.cpu().numpy(),\n",
    "    uppers.cpu().numpy(),\n",
    "    alpha=0.2,\n",
    "    color=\"black\",\n",
    ")\n",
    "ax.set_xlabel(\"Slope Angle [degrees]\")\n",
    "ax.set_ylabel(\"Slip Ratio\")\n",
    "ax.set_xlim(0, 30)\n",
    "ax.set_ylim(0, 1)\n",
    "ax.grid(True)\n",
    "ax.legend()\n",
    "\n",
    "plt.show()"
   ]
  },
  {
   "cell_type": "markdown",
   "metadata": {},
   "source": [
    "# Terrain Traversability Generation\n",
    "\n",
    "Now we have terrain geometry and coloring information as well as assigned slip models in each terrain class. How we can obtain terrain traversabilty map? We finally explain how to generate terrain traversability map that is used for navigation procedures."
   ]
  },
  {
   "cell_type": "markdown",
   "metadata": {},
   "source": [
    "1. Define slip models for terrain classes. According to the `occupancy`, we have four distinct terrain classes so the slip models should be set for each terrain class. We provide `SlipModelsGenerator` that automatically generates distinct slip models for each terrain class. It returns the dictionary of `SlipModel`."
   ]
  },
  {
   "cell_type": "code",
   "execution_count": null,
   "metadata": {},
   "outputs": [],
   "source": [
    "from src.data.slip_models_generator import SlipModelsGenerator"
   ]
  },
  {
   "cell_type": "code",
   "execution_count": null,
   "metadata": {},
   "outputs": [],
   "source": [
    "slip_models_generator = SlipModelsGenerator(\n",
    "    num_total_terrain_classes=occupancy.size()[0],  # number of terrain classes\n",
    "    slip_sensitivity_minmax=(1.0, 9.0),  # sensitivity of slip to slope\n",
    "    slip_nonlinearity_minmax=(1.4, 2.0),  # nonlinearity of slip to slope\n",
    "    slip_offset_minmax=(0.0, 0.1),  # offset of slip at zero slope\n",
    "    noise_scale_minmax=(0.1, 0.2),  # noise scales\n",
    "    device=device,\n",
    ")\n",
    "\n",
    "slip_models = slip_models_generator.generate_slip_models()"
   ]
  },
  {
   "cell_type": "markdown",
   "metadata": {},
   "source": [
    "2. Call `TerrainTraversability` in order to generate traversability map based on terrain appearance (class inforamtion) and geometry (slope information). You just need to set slip models in `set_traversability` and it generates slip as probability distribution. "
   ]
  },
  {
   "cell_type": "code",
   "execution_count": null,
   "metadata": {},
   "outputs": [],
   "source": [
    "terrain_traversability = TerrainTraversability(grid_map=grid_map)\n",
    "terrain_traversability.set_traversability(slip_models=slip_models)"
   ]
  },
  {
   "cell_type": "markdown",
   "metadata": {},
   "source": [
    "That is it! You can obtain actual slip distributions by calling `tensors[\"slips\"]` from `GridMap` class. Note that the distributions is based on `torch.distributions.Normal` so you need to call its `mean` and `stddev`."
   ]
  },
  {
   "cell_type": "markdown",
   "metadata": {},
   "source": [
    "## Visualized examples of terrain traversability map"
   ]
  },
  {
   "cell_type": "code",
   "execution_count": null,
   "metadata": {},
   "outputs": [],
   "source": [
    "fig, axs = plt.subplots(1, 3, figsize=(10, 5))\n",
    "\n",
    "# Prepare mean and stddev maps\n",
    "slips = grid_map.distributions[\"latent_models\"]\n",
    "mean_slips = slips.mean.cpu().numpy()\n",
    "stddev_slips = slips.stddev.cpu().numpy()\n",
    "# Prepare observations map (clamped to [0, 1])\n",
    "observations = torch.clamp(slips.sample(), 0, 1)\n",
    "observations = observations.cpu().numpy()\n",
    "\n",
    "# mean map\n",
    "mean_img = axs[0].imshow(mean_slips, cmap=\"turbo\")\n",
    "axs[0].set_title(\"Traversability Map - Mean\")\n",
    "axs[0].axis(\"off\")\n",
    "fig.colorbar(mean_img, ax=axs[0], orientation=\"vertical\", fraction=0.046, pad=0.04)\n",
    "\n",
    "# stddev map\n",
    "stddev_img = axs[1].imshow(stddev_slips, cmap=\"turbo\")\n",
    "axs[1].set_title(\"Traversability Map - Stddev\")\n",
    "axs[1].axis(\"off\")\n",
    "fig.colorbar(stddev_img, ax=axs[1], orientation=\"vertical\", fraction=0.046, pad=0.04)\n",
    "\n",
    "# observations map\n",
    "obs_img = axs[2].imshow(observations, cmap=\"turbo\")\n",
    "axs[2].set_title(\"Traversability Map - Observations\")\n",
    "axs[2].axis(\"off\")\n",
    "fig.colorbar(obs_img, ax=axs[2], orientation=\"vertical\", fraction=0.046, pad=0.04)\n",
    "\n",
    "plt.tight_layout()\n",
    "plt.show()"
   ]
  }
 ],
 "metadata": {
  "kernelspec": {
   "display_name": ".venv",
   "language": "python",
   "name": "python3"
  },
  "language_info": {
   "codemirror_mode": {
    "name": "ipython",
    "version": 3
   },
   "file_extension": ".py",
   "mimetype": "text/x-python",
   "name": "python",
   "nbconvert_exporter": "python",
   "pygments_lexer": "ipython3",
   "version": "3.10.14"
  }
 },
 "nbformat": 4,
 "nbformat_minor": 2
}
